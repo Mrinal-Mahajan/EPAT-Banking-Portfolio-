{
 "cells": [
  {
   "cell_type": "code",
   "execution_count": 1,
   "metadata": {},
   "outputs": [],
   "source": [
    "import pandas as pd\n",
    "import os\n",
    "from sklearn.model_selection import train_test_split\n",
    "import numpy as np\n",
    "import yfinance as yf\n",
    "from concurrent import futures\n",
    "import matplotlib.pyplot as plt\n",
    "\n",
    "from statsmodels.tsa.seasonal import seasonal_decompose\n",
    "\n",
    "import quandl\n",
    "#from fbprophet import Prophet\n",
    "\n",
    "import warnings\n",
    "warnings.filterwarnings('ignore')\n",
    "\n",
    "import seaborn as sns\n",
    "sns.set()"
   ]
  },
  {
   "cell_type": "code",
   "execution_count": 2,
   "metadata": {},
   "outputs": [],
   "source": [
    "os.chdir('../Statistics/')"
   ]
  },
  {
   "cell_type": "code",
   "execution_count": 3,
   "metadata": {},
   "outputs": [],
   "source": [
    "nifty_bank_shares = pd.read_excel('nifty bank shares.xlsx',header=0)"
   ]
  },
  {
   "cell_type": "code",
   "execution_count": 4,
   "metadata": {},
   "outputs": [
    {
     "data": {
      "text/html": [
       "<div>\n",
       "<style scoped>\n",
       "    .dataframe tbody tr th:only-of-type {\n",
       "        vertical-align: middle;\n",
       "    }\n",
       "\n",
       "    .dataframe tbody tr th {\n",
       "        vertical-align: top;\n",
       "    }\n",
       "\n",
       "    .dataframe thead th {\n",
       "        text-align: right;\n",
       "    }\n",
       "</style>\n",
       "<table border=\"1\" class=\"dataframe\">\n",
       "  <thead>\n",
       "    <tr style=\"text-align: right;\">\n",
       "      <th></th>\n",
       "      <th>Bank/Company Name</th>\n",
       "      <th>Symbol</th>\n",
       "      <th>Weightage</th>\n",
       "      <th>Data Available from</th>\n",
       "    </tr>\n",
       "  </thead>\n",
       "  <tbody>\n",
       "    <tr>\n",
       "      <th>0</th>\n",
       "      <td>HDFC Bank Ltd.</td>\n",
       "      <td>HDFCBANK</td>\n",
       "      <td>0.2839</td>\n",
       "      <td>NaT</td>\n",
       "    </tr>\n",
       "    <tr>\n",
       "      <th>1</th>\n",
       "      <td>ICICI Bank Ltd.</td>\n",
       "      <td>ICICIBANK</td>\n",
       "      <td>0.1948</td>\n",
       "      <td>NaT</td>\n",
       "    </tr>\n",
       "    <tr>\n",
       "      <th>2</th>\n",
       "      <td>Kotak Mahindra Bank Ltd.</td>\n",
       "      <td>KOTAKBANK</td>\n",
       "      <td>0.1631</td>\n",
       "      <td>NaT</td>\n",
       "    </tr>\n",
       "    <tr>\n",
       "      <th>3</th>\n",
       "      <td>Axis Bank Ltd.</td>\n",
       "      <td>AXISBANK</td>\n",
       "      <td>0.1495</td>\n",
       "      <td>NaT</td>\n",
       "    </tr>\n",
       "    <tr>\n",
       "      <th>4</th>\n",
       "      <td>State Bank of India</td>\n",
       "      <td>SBIN</td>\n",
       "      <td>0.0956</td>\n",
       "      <td>NaT</td>\n",
       "    </tr>\n",
       "  </tbody>\n",
       "</table>\n",
       "</div>"
      ],
      "text/plain": [
       "          Bank/Company Name     Symbol  Weightage Data Available from\n",
       "0            HDFC Bank Ltd.   HDFCBANK     0.2839                 NaT\n",
       "1           ICICI Bank Ltd.  ICICIBANK     0.1948                 NaT\n",
       "2  Kotak Mahindra Bank Ltd.  KOTAKBANK     0.1631                 NaT\n",
       "3            Axis Bank Ltd.   AXISBANK     0.1495                 NaT\n",
       "4       State Bank of India       SBIN     0.0956                 NaT"
      ]
     },
     "execution_count": 4,
     "metadata": {},
     "output_type": "execute_result"
    }
   ],
   "source": [
    "nifty_bank_shares.head()"
   ]
  },
  {
   "cell_type": "code",
   "execution_count": 81,
   "metadata": {},
   "outputs": [],
   "source": [
    "os.chdir('../PIV/')"
   ]
  },
  {
   "cell_type": "code",
   "execution_count": 82,
   "metadata": {},
   "outputs": [
    {
     "name": "stdout",
     "output_type": "stream",
     "text": [
      "[*********************100%***********************]  1 of 1 completed\n"
     ]
    }
   ],
   "source": [
    "df = yf.download('HDFCBANK.NS',start='2010-01-01',end='2020-12-15')"
   ]
  },
  {
   "cell_type": "code",
   "execution_count": 84,
   "metadata": {},
   "outputs": [],
   "source": [
    "bad_tickers = []\n",
    "def get_data(symbol):\n",
    "    try:\n",
    "        df = yf.download(symbol+'.NS',start='2020-10-01',end='2021-01-10')\n",
    "        df['Symbol'] = symbol\n",
    "        df = df[['Symbol','Open','High','Low','Close','Adj Close','Volume']]\n",
    "        df.to_csv(symbol+'.csv')\n",
    "    except:\n",
    "        bad_tickers.append(symbol)\n",
    "        print(f'Data not found for {symbol}')"
   ]
  },
  {
   "cell_type": "code",
   "execution_count": 85,
   "metadata": {},
   "outputs": [
    {
     "name": "stdout",
     "output_type": "stream",
     "text": [
      "[*********************100%***********************]  1 of 1 completed\n",
      "[*********************100%***********************]  1 of 1 completed\n",
      "[*********************100%***********************]  1 of 1 completed\n",
      "[*********************100%***********************]  1 of 1 completed\n",
      "[*********************100%***********************]  1 of 1 completed\n",
      "[*********************100%***********************]  1 of 1 completed\n",
      "[*********************100%***********************]  1 of 1 completed\n",
      "[*********************100%***********************]  1 of 1 completed\n",
      "[*********************100%***********************]  1 of 1 completed\n",
      "[*********************100%***********************]  1 of 1 completed\n",
      "[*********************100%***********************]  1 of 1 completed\n",
      "[*********************100%***********************]  1 of 1 completed\n"
     ]
    }
   ],
   "source": [
    "for symbol in list(nifty_bank_shares['Symbol']):\n",
    "    get_data(symbol)"
   ]
  },
  {
   "cell_type": "code",
   "execution_count": 86,
   "metadata": {},
   "outputs": [
    {
     "name": "stdout",
     "output_type": "stream",
     "text": [
      "[*********************100%***********************]  1 of 1 completed\n"
     ]
    }
   ],
   "source": [
    "df = yf.download('^NSEBANK',start='2020-10-01',end='2021-01-10')"
   ]
  },
  {
   "cell_type": "code",
   "execution_count": 87,
   "metadata": {},
   "outputs": [],
   "source": [
    "df['Symbol'] = 'Nifty Bank'\n",
    "df = df[['Symbol','Open','High','Low','Close','Adj Close','Volume']]\n",
    "df.to_csv('niftybank.csv')"
   ]
  },
  {
   "cell_type": "code",
   "execution_count": 88,
   "metadata": {},
   "outputs": [],
   "source": [
    "niftybank = pd.read_csv('niftybank.csv',header=0)"
   ]
  },
  {
   "cell_type": "code",
   "execution_count": 89,
   "metadata": {},
   "outputs": [
    {
     "data": {
      "text/html": [
       "<div>\n",
       "<style scoped>\n",
       "    .dataframe tbody tr th:only-of-type {\n",
       "        vertical-align: middle;\n",
       "    }\n",
       "\n",
       "    .dataframe tbody tr th {\n",
       "        vertical-align: top;\n",
       "    }\n",
       "\n",
       "    .dataframe thead th {\n",
       "        text-align: right;\n",
       "    }\n",
       "</style>\n",
       "<table border=\"1\" class=\"dataframe\">\n",
       "  <thead>\n",
       "    <tr style=\"text-align: right;\">\n",
       "      <th></th>\n",
       "      <th>Date</th>\n",
       "      <th>Symbol</th>\n",
       "      <th>Open</th>\n",
       "      <th>High</th>\n",
       "      <th>Low</th>\n",
       "      <th>Close</th>\n",
       "      <th>Adj Close</th>\n",
       "      <th>Volume</th>\n",
       "    </tr>\n",
       "  </thead>\n",
       "  <tbody>\n",
       "    <tr>\n",
       "      <th>0</th>\n",
       "      <td>2020-10-01</td>\n",
       "      <td>Nifty Bank</td>\n",
       "      <td>21685.250000</td>\n",
       "      <td>22293.750000</td>\n",
       "      <td>21664.150391</td>\n",
       "      <td>22246.000000</td>\n",
       "      <td>22246.000000</td>\n",
       "      <td>0</td>\n",
       "    </tr>\n",
       "    <tr>\n",
       "      <th>1</th>\n",
       "      <td>2020-10-05</td>\n",
       "      <td>Nifty Bank</td>\n",
       "      <td>22352.099609</td>\n",
       "      <td>22768.550781</td>\n",
       "      <td>22247.250000</td>\n",
       "      <td>22370.949219</td>\n",
       "      <td>22370.949219</td>\n",
       "      <td>0</td>\n",
       "    </tr>\n",
       "    <tr>\n",
       "      <th>2</th>\n",
       "      <td>2020-10-06</td>\n",
       "      <td>Nifty Bank</td>\n",
       "      <td>22673.050781</td>\n",
       "      <td>22893.500000</td>\n",
       "      <td>22521.050781</td>\n",
       "      <td>22853.699219</td>\n",
       "      <td>22853.699219</td>\n",
       "      <td>0</td>\n",
       "    </tr>\n",
       "    <tr>\n",
       "      <th>3</th>\n",
       "      <td>2020-10-07</td>\n",
       "      <td>Nifty Bank</td>\n",
       "      <td>22836.949219</td>\n",
       "      <td>23036.199219</td>\n",
       "      <td>22607.800781</td>\n",
       "      <td>22964.800781</td>\n",
       "      <td>22964.800781</td>\n",
       "      <td>0</td>\n",
       "    </tr>\n",
       "    <tr>\n",
       "      <th>4</th>\n",
       "      <td>2020-10-08</td>\n",
       "      <td>Nifty Bank</td>\n",
       "      <td>23150.250000</td>\n",
       "      <td>23450.900391</td>\n",
       "      <td>23063.599609</td>\n",
       "      <td>23191.349609</td>\n",
       "      <td>23191.349609</td>\n",
       "      <td>0</td>\n",
       "    </tr>\n",
       "  </tbody>\n",
       "</table>\n",
       "</div>"
      ],
      "text/plain": [
       "         Date      Symbol          Open          High           Low  \\\n",
       "0  2020-10-01  Nifty Bank  21685.250000  22293.750000  21664.150391   \n",
       "1  2020-10-05  Nifty Bank  22352.099609  22768.550781  22247.250000   \n",
       "2  2020-10-06  Nifty Bank  22673.050781  22893.500000  22521.050781   \n",
       "3  2020-10-07  Nifty Bank  22836.949219  23036.199219  22607.800781   \n",
       "4  2020-10-08  Nifty Bank  23150.250000  23450.900391  23063.599609   \n",
       "\n",
       "          Close     Adj Close  Volume  \n",
       "0  22246.000000  22246.000000       0  \n",
       "1  22370.949219  22370.949219       0  \n",
       "2  22853.699219  22853.699219       0  \n",
       "3  22964.800781  22964.800781       0  \n",
       "4  23191.349609  23191.349609       0  "
      ]
     },
     "execution_count": 89,
     "metadata": {},
     "output_type": "execute_result"
    }
   ],
   "source": [
    "niftybank.head()"
   ]
  },
  {
   "cell_type": "code",
   "execution_count": 90,
   "metadata": {},
   "outputs": [],
   "source": [
    "niftybank['returns'] = np.log(niftybank['Adj Close']/niftybank['Adj Close'].shift(1))\n",
    "niftybank['Voltality_short'] = niftybank['returns'].rolling(window=5).std()\n",
    "niftybank['Voltality_long'] = niftybank['returns'].rolling(window=20).std()"
   ]
  },
  {
   "cell_type": "code",
   "execution_count": 91,
   "metadata": {},
   "outputs": [
    {
     "data": {
      "text/html": [
       "<div>\n",
       "<style scoped>\n",
       "    .dataframe tbody tr th:only-of-type {\n",
       "        vertical-align: middle;\n",
       "    }\n",
       "\n",
       "    .dataframe tbody tr th {\n",
       "        vertical-align: top;\n",
       "    }\n",
       "\n",
       "    .dataframe thead th {\n",
       "        text-align: right;\n",
       "    }\n",
       "</style>\n",
       "<table border=\"1\" class=\"dataframe\">\n",
       "  <thead>\n",
       "    <tr style=\"text-align: right;\">\n",
       "      <th></th>\n",
       "      <th>Date</th>\n",
       "      <th>Symbol</th>\n",
       "      <th>Open</th>\n",
       "      <th>High</th>\n",
       "      <th>Low</th>\n",
       "      <th>Close</th>\n",
       "      <th>Adj Close</th>\n",
       "      <th>Volume</th>\n",
       "      <th>returns</th>\n",
       "      <th>Voltality_short</th>\n",
       "      <th>Voltality_long</th>\n",
       "    </tr>\n",
       "  </thead>\n",
       "  <tbody>\n",
       "    <tr>\n",
       "      <th>0</th>\n",
       "      <td>2020-10-01</td>\n",
       "      <td>Nifty Bank</td>\n",
       "      <td>21685.250000</td>\n",
       "      <td>22293.750000</td>\n",
       "      <td>21664.150391</td>\n",
       "      <td>22246.000000</td>\n",
       "      <td>22246.000000</td>\n",
       "      <td>0</td>\n",
       "      <td>NaN</td>\n",
       "      <td>NaN</td>\n",
       "      <td>NaN</td>\n",
       "    </tr>\n",
       "    <tr>\n",
       "      <th>1</th>\n",
       "      <td>2020-10-05</td>\n",
       "      <td>Nifty Bank</td>\n",
       "      <td>22352.099609</td>\n",
       "      <td>22768.550781</td>\n",
       "      <td>22247.250000</td>\n",
       "      <td>22370.949219</td>\n",
       "      <td>22370.949219</td>\n",
       "      <td>0</td>\n",
       "      <td>0.005601</td>\n",
       "      <td>NaN</td>\n",
       "      <td>NaN</td>\n",
       "    </tr>\n",
       "    <tr>\n",
       "      <th>2</th>\n",
       "      <td>2020-10-06</td>\n",
       "      <td>Nifty Bank</td>\n",
       "      <td>22673.050781</td>\n",
       "      <td>22893.500000</td>\n",
       "      <td>22521.050781</td>\n",
       "      <td>22853.699219</td>\n",
       "      <td>22853.699219</td>\n",
       "      <td>0</td>\n",
       "      <td>0.021350</td>\n",
       "      <td>NaN</td>\n",
       "      <td>NaN</td>\n",
       "    </tr>\n",
       "    <tr>\n",
       "      <th>3</th>\n",
       "      <td>2020-10-07</td>\n",
       "      <td>Nifty Bank</td>\n",
       "      <td>22836.949219</td>\n",
       "      <td>23036.199219</td>\n",
       "      <td>22607.800781</td>\n",
       "      <td>22964.800781</td>\n",
       "      <td>22964.800781</td>\n",
       "      <td>0</td>\n",
       "      <td>0.004850</td>\n",
       "      <td>NaN</td>\n",
       "      <td>NaN</td>\n",
       "    </tr>\n",
       "    <tr>\n",
       "      <th>4</th>\n",
       "      <td>2020-10-08</td>\n",
       "      <td>Nifty Bank</td>\n",
       "      <td>23150.250000</td>\n",
       "      <td>23450.900391</td>\n",
       "      <td>23063.599609</td>\n",
       "      <td>23191.349609</td>\n",
       "      <td>23191.349609</td>\n",
       "      <td>0</td>\n",
       "      <td>0.009817</td>\n",
       "      <td>NaN</td>\n",
       "      <td>NaN</td>\n",
       "    </tr>\n",
       "    <tr>\n",
       "      <th>...</th>\n",
       "      <td>...</td>\n",
       "      <td>...</td>\n",
       "      <td>...</td>\n",
       "      <td>...</td>\n",
       "      <td>...</td>\n",
       "      <td>...</td>\n",
       "      <td>...</td>\n",
       "      <td>...</td>\n",
       "      <td>...</td>\n",
       "      <td>...</td>\n",
       "      <td>...</td>\n",
       "    </tr>\n",
       "    <tr>\n",
       "      <th>62</th>\n",
       "      <td>2021-01-04</td>\n",
       "      <td>Nifty Bank</td>\n",
       "      <td>31485.150391</td>\n",
       "      <td>31489.599609</td>\n",
       "      <td>30893.650391</td>\n",
       "      <td>31212.449219</td>\n",
       "      <td>31212.449219</td>\n",
       "      <td>0</td>\n",
       "      <td>-0.001652</td>\n",
       "      <td>0.008832</td>\n",
       "      <td>0.012999</td>\n",
       "    </tr>\n",
       "    <tr>\n",
       "      <th>63</th>\n",
       "      <td>2021-01-05</td>\n",
       "      <td>Nifty Bank</td>\n",
       "      <td>31041.099609</td>\n",
       "      <td>31767.650391</td>\n",
       "      <td>30935.550781</td>\n",
       "      <td>31722.250000</td>\n",
       "      <td>31722.250000</td>\n",
       "      <td>0</td>\n",
       "      <td>0.016201</td>\n",
       "      <td>0.009003</td>\n",
       "      <td>0.012741</td>\n",
       "    </tr>\n",
       "    <tr>\n",
       "      <th>64</th>\n",
       "      <td>2021-01-06</td>\n",
       "      <td>Nifty Bank</td>\n",
       "      <td>31839.949219</td>\n",
       "      <td>31982.300781</td>\n",
       "      <td>31548.150391</td>\n",
       "      <td>31797.900391</td>\n",
       "      <td>31797.900391</td>\n",
       "      <td>0</td>\n",
       "      <td>0.002382</td>\n",
       "      <td>0.007541</td>\n",
       "      <td>0.012727</td>\n",
       "    </tr>\n",
       "    <tr>\n",
       "      <th>65</th>\n",
       "      <td>2021-01-07</td>\n",
       "      <td>Nifty Bank</td>\n",
       "      <td>32129.800781</td>\n",
       "      <td>32177.400391</td>\n",
       "      <td>31911.500000</td>\n",
       "      <td>31956.000000</td>\n",
       "      <td>31956.000000</td>\n",
       "      <td>0</td>\n",
       "      <td>0.004960</td>\n",
       "      <td>0.007277</td>\n",
       "      <td>0.012736</td>\n",
       "    </tr>\n",
       "    <tr>\n",
       "      <th>66</th>\n",
       "      <td>2021-01-08</td>\n",
       "      <td>Nifty Bank</td>\n",
       "      <td>32298.050781</td>\n",
       "      <td>32298.050781</td>\n",
       "      <td>32002.949219</td>\n",
       "      <td>32084.199219</td>\n",
       "      <td>32084.199219</td>\n",
       "      <td>0</td>\n",
       "      <td>0.004004</td>\n",
       "      <td>0.006660</td>\n",
       "      <td>0.012429</td>\n",
       "    </tr>\n",
       "  </tbody>\n",
       "</table>\n",
       "<p>67 rows × 11 columns</p>\n",
       "</div>"
      ],
      "text/plain": [
       "          Date      Symbol          Open          High           Low  \\\n",
       "0   2020-10-01  Nifty Bank  21685.250000  22293.750000  21664.150391   \n",
       "1   2020-10-05  Nifty Bank  22352.099609  22768.550781  22247.250000   \n",
       "2   2020-10-06  Nifty Bank  22673.050781  22893.500000  22521.050781   \n",
       "3   2020-10-07  Nifty Bank  22836.949219  23036.199219  22607.800781   \n",
       "4   2020-10-08  Nifty Bank  23150.250000  23450.900391  23063.599609   \n",
       "..         ...         ...           ...           ...           ...   \n",
       "62  2021-01-04  Nifty Bank  31485.150391  31489.599609  30893.650391   \n",
       "63  2021-01-05  Nifty Bank  31041.099609  31767.650391  30935.550781   \n",
       "64  2021-01-06  Nifty Bank  31839.949219  31982.300781  31548.150391   \n",
       "65  2021-01-07  Nifty Bank  32129.800781  32177.400391  31911.500000   \n",
       "66  2021-01-08  Nifty Bank  32298.050781  32298.050781  32002.949219   \n",
       "\n",
       "           Close     Adj Close  Volume   returns  Voltality_short  \\\n",
       "0   22246.000000  22246.000000       0       NaN              NaN   \n",
       "1   22370.949219  22370.949219       0  0.005601              NaN   \n",
       "2   22853.699219  22853.699219       0  0.021350              NaN   \n",
       "3   22964.800781  22964.800781       0  0.004850              NaN   \n",
       "4   23191.349609  23191.349609       0  0.009817              NaN   \n",
       "..           ...           ...     ...       ...              ...   \n",
       "62  31212.449219  31212.449219       0 -0.001652         0.008832   \n",
       "63  31722.250000  31722.250000       0  0.016201         0.009003   \n",
       "64  31797.900391  31797.900391       0  0.002382         0.007541   \n",
       "65  31956.000000  31956.000000       0  0.004960         0.007277   \n",
       "66  32084.199219  32084.199219       0  0.004004         0.006660   \n",
       "\n",
       "    Voltality_long  \n",
       "0              NaN  \n",
       "1              NaN  \n",
       "2              NaN  \n",
       "3              NaN  \n",
       "4              NaN  \n",
       "..             ...  \n",
       "62        0.012999  \n",
       "63        0.012741  \n",
       "64        0.012727  \n",
       "65        0.012736  \n",
       "66        0.012429  \n",
       "\n",
       "[67 rows x 11 columns]"
      ]
     },
     "execution_count": 91,
     "metadata": {},
     "output_type": "execute_result"
    }
   ],
   "source": [
    "niftybank.head(100)"
   ]
  },
  {
   "cell_type": "markdown",
   "metadata": {},
   "source": [
    "# Statistical tests"
   ]
  },
  {
   "cell_type": "code",
   "execution_count": 7,
   "metadata": {},
   "outputs": [],
   "source": [
    "#1.check if log returns are stationary\n",
    "import statsmodels.api as sm\n",
    "import statsmodels.formula.api as smf\n",
    "import statsmodels.stats as sms\n",
    "from statsmodels.tsa.stattools import adfuller"
   ]
  },
  {
   "cell_type": "code",
   "execution_count": 11,
   "metadata": {},
   "outputs": [],
   "source": [
    "def check_stationarity(y, wl1=21, wl2=252, lags=40, figsize=(15, 10)):\n",
    "    \"\"\" Checks the stationarity of a pandas Series (default is daily prices or returns),\n",
    "        using plots, correlograms and the ADF test\n",
    "    \"\"\"\n",
    "    ## Calculating rolling statistics\n",
    "    \n",
    "    rolling_wl1_mean = y.rolling(window=wl1).mean()\n",
    "    rolling_wl2_mean = y.rolling(window=wl2).mean()\n",
    "    rolling_wl1_vol = y.rolling(window=wl1).std()\n",
    "    rolling_wl2_vol = y.rolling(window=wl2).std()\n",
    "    \n",
    "    ## Plotting the price, rolling statistics and correlograms\n",
    "    \n",
    "    fig = plt.figure(figsize=figsize)\n",
    "    sns.set(font_scale=1)\n",
    "    layout = (2, 2)\n",
    "    y_ax = plt.subplot2grid(layout, (0, 0))\n",
    "    vol_ax = plt.subplot2grid(layout, (0, 1))\n",
    "    acf_ax = plt.subplot2grid(layout, (1, 0))\n",
    "    pacf_ax = plt.subplot2grid(layout, (1, 1))\n",
    "        \n",
    "    y.plot(ax=y_ax)\n",
    "    rolling_wl1_mean.plot(ax=y_ax)\n",
    "    rolling_wl2_mean.plot(ax=y_ax)\n",
    "    \n",
    "    rolling_wl1_vol.plot(ax=vol_ax)\n",
    "    rolling_wl2_vol.plot(ax=vol_ax)\n",
    "    y_ax.set_title('Rolling means over time')\n",
    "    y_ax.legend(['observed', f'{wl1}-period MA of observed', f'{wl2}-period MA of observed'], loc='best')\n",
    "    #y_ax.set_ylabel(\"Gold prices(in INR)/oz.\")\n",
    "    \n",
    "    vol_ax.set_title('Rolling volatility over time')\n",
    "    vol_ax.legend([f'{wl1}-period MA of volatility', f'{wl2}-period MA of volatility'], loc='best')\n",
    "    \n",
    "    sm.graphics.tsa.plot_acf(y, lags=lags, ax=acf_ax, alpha=0.05)\n",
    "    sm.graphics.tsa.plot_pacf(y, lags=lags, ax=pacf_ax, alpha=0.05)\n",
    "    \n",
    "    ## Running the Augmented Dickey-Fuller test\n",
    "    print('--------------------------------------------------------------')\n",
    "    print('--------- The augmented Dickey-Fuller test results -----------')\n",
    "    print('--------------------------------------------------------------')\n",
    "    adftest = adfuller(y, autolag='AIC')\n",
    "    results = pd.Series(adftest[0:4], index=['Test Statistic','p-value','# of Lags','# of Observations'])\n",
    "    for key,value in adftest[4].items():\n",
    "        results[f'Critical Value ({key})'] = '{0:.3f}'.format(value)\n",
    "    print(results)\n",
    "    print('--------------------------------------------------------------')"
   ]
  },
  {
   "cell_type": "code",
   "execution_count": 12,
   "metadata": {},
   "outputs": [
    {
     "name": "stdout",
     "output_type": "stream",
     "text": [
      "--------------------------------------------------------------\n",
      "--------- The augmented Dickey-Fuller test results -----------\n",
      "--------------------------------------------------------------\n",
      "Test Statistic             -13.6329\n",
      "p-value                 1.71019e-25\n",
      "# of Lags                        11\n",
      "# of Observations              2382\n",
      "Critical Value (1%)          -3.433\n",
      "Critical Value (5%)          -2.863\n",
      "Critical Value (10%)         -2.567\n",
      "dtype: object\n",
      "--------------------------------------------------------------\n"
     ]
    },
    {
     "data": {
      "image/png": "[encoded data removed]",
      "text/plain": [
       "<Figure size 1080x720 with 4 Axes>"
      ]
     },
     "metadata": {},
     "output_type": "display_data"
    }
   ],
   "source": [
    "niftybank.dropna(inplace=True)\n",
    "check_stationarity(niftybank['returns'],wl1=5,wl2=20,lags=20)"
   ]
  },
  {
   "cell_type": "markdown",
   "metadata": {},
   "source": [
    "The returns are stationary"
   ]
  },
  {
   "cell_type": "code",
   "execution_count": 13,
   "metadata": {},
   "outputs": [
    {
     "data": {
      "text/plain": [
       "[Text(0.5, 1.0, 'Ljung-Box test results (after modeling nifty bank prices)'),\n",
       " Text(0.5, 0, 'Lags'),\n",
       " Text(0, 0.5, 'p-value')]"
      ]
     },
     "execution_count": 13,
     "metadata": {},
     "output_type": "execute_result"
    },
    {
     "data": {
      "image/png": "[encoded data removed]",
      "text/plain": [
       "<Figure size 720x432 with 1 Axes>"
      ]
     },
     "metadata": {},
     "output_type": "display_data"
    }
   ],
   "source": [
    "#check for autocorrelation - LJung Box Test\n",
    "ljung_box_results = sm.stats.acorr_ljungbox(niftybank['returns'])\n",
    "fig, ax = plt.subplots(1, figsize=(10, 6))\n",
    "sns.scatterplot(x=range(len(ljung_box_results[1])), y=ljung_box_results[1], ax=ax)\n",
    "ax.axhline(0.01, ls='--', color='red')\n",
    "ax.set(title=f\"Ljung-Box test results (after modeling nifty bank prices)\", xlabel='Lags', ylabel='p-value')"
   ]
  },
  {
   "cell_type": "markdown",
   "metadata": {},
   "source": [
    "returns are serrially correlated"
   ]
  },
  {
   "cell_type": "code",
   "execution_count": 14,
   "metadata": {},
   "outputs": [
    {
     "name": "stdout",
     "output_type": "stream",
     "text": [
      "Jarque-Bera statistic: 20256.31 with p-value: 0.00\n",
      "Our residuals are likely not normally distributed.\n"
     ]
    }
   ],
   "source": [
    "#check normality\n",
    "\n",
    "from statsmodels.stats.stattools import jarque_bera\n",
    "\n",
    "jb_test_stat, pvalue, _, _ = jarque_bera(niftybank['returns'])\n",
    "print(f\"Jarque-Bera statistic: {jb_test_stat:.2f} with p-value: {pvalue:.2f}\")\n",
    "\n",
    "if pvalue < 0.05:\n",
    "    print(\"Our residuals are likely not normally distributed.\")\n",
    "else:\n",
    "    print(\"Our residuals are likely normally distributed.\")"
   ]
  },
  {
   "cell_type": "markdown",
   "metadata": {},
   "source": [
    "# Dependent Variable\n",
    "1. we will try to predict positive returns\n",
    "2. we will try to predict negative returns\n",
    "3. we will try to predict probability of positive returns"
   ]
  },
  {
   "cell_type": "code",
   "execution_count": 92,
   "metadata": {},
   "outputs": [],
   "source": [
    "import talib"
   ]
  },
  {
   "cell_type": "code",
   "execution_count": 93,
   "metadata": {},
   "outputs": [],
   "source": [
    "#create nifty variables\n",
    "nifty = pd.read_csv('niftybank.csv',header=0,parse_dates=True)\n",
    "nifty['Date'] = nifty['Date'].apply(lambda x: str.strip(str(x)))\n",
    "nifty['returns'] = np.log(nifty['Adj Close']/nifty['Adj Close'].shift(1))\n",
    "for i in range(1,11):\n",
    "    nifty[f'return_{i}d'] = nifty['returns'].shift(i)\n",
    "nifty['MA5'] = nifty['Adj Close'].shift(1).rolling(window=5).mean()\n",
    "nifty['MA20'] = nifty['Adj Close'].shift(1).rolling(window=20).mean()\n",
    "nifty['MA5_ratio'] = nifty['Adj Close'].shift(1)/nifty['MA5']\n",
    "nifty['MA20_ratio'] = nifty['Adj Close'].shift(1)/nifty['MA20']\n",
    "nifty['High5'] = nifty['Adj Close'].shift(1).rolling(window=5).max()\n",
    "nifty['Low5'] = nifty['Adj Close'].shift(1).rolling(window=5).min()\n",
    "nifty['High20'] = nifty['Adj Close'].shift(1).rolling(window=20).max()\n",
    "nifty['Low20'] = nifty['Adj Close'].shift(1).rolling(window=20).min()\n",
    "nifty['High5_ratio'] = nifty['Adj Close'].shift(1)/nifty['High5']\n",
    "nifty['Low5_ratio'] = nifty['Low5']/nifty['Adj Close'].shift(1)\n",
    "nifty['High20_ratio'] = nifty['Adj Close'].shift(1)/nifty['High20']\n",
    "nifty['Low20_ratio'] = nifty['Low20']/nifty['Adj Close'].shift(1)\n",
    "nifty['Voltality5'] = nifty['returns'].shift(1).rolling(window=5).std()\n",
    "nifty['Voltality20'] = nifty['returns'].shift(1).rolling(window=20).std()"
   ]
  },
  {
   "cell_type": "code",
   "execution_count": 94,
   "metadata": {},
   "outputs": [
    {
     "data": {
      "text/plain": [
       "(67, 33)"
      ]
     },
     "execution_count": 94,
     "metadata": {},
     "output_type": "execute_result"
    }
   ],
   "source": [
    "nifty.shape"
   ]
  },
  {
   "cell_type": "code",
   "execution_count": 95,
   "metadata": {},
   "outputs": [],
   "source": [
    "nifty.dropna(inplace=True)"
   ]
  },
  {
   "cell_type": "code",
   "execution_count": 96,
   "metadata": {},
   "outputs": [
    {
     "data": {
      "text/plain": [
       "(46, 33)"
      ]
     },
     "execution_count": 96,
     "metadata": {},
     "output_type": "execute_result"
    }
   ],
   "source": [
    "nifty.shape"
   ]
  },
  {
   "cell_type": "code",
   "execution_count": 97,
   "metadata": {},
   "outputs": [
    {
     "data": {
      "text/html": [
       "<div>\n",
       "<style scoped>\n",
       "    .dataframe tbody tr th:only-of-type {\n",
       "        vertical-align: middle;\n",
       "    }\n",
       "\n",
       "    .dataframe tbody tr th {\n",
       "        vertical-align: top;\n",
       "    }\n",
       "\n",
       "    .dataframe thead th {\n",
       "        text-align: right;\n",
       "    }\n",
       "</style>\n",
       "<table border=\"1\" class=\"dataframe\">\n",
       "  <thead>\n",
       "    <tr style=\"text-align: right;\">\n",
       "      <th></th>\n",
       "      <th>Date</th>\n",
       "      <th>Symbol</th>\n",
       "      <th>Open</th>\n",
       "      <th>High</th>\n",
       "      <th>Low</th>\n",
       "      <th>Close</th>\n",
       "      <th>Adj Close</th>\n",
       "      <th>Volume</th>\n",
       "      <th>returns</th>\n",
       "      <th>return_1d</th>\n",
       "      <th>...</th>\n",
       "      <th>High5</th>\n",
       "      <th>Low5</th>\n",
       "      <th>High20</th>\n",
       "      <th>Low20</th>\n",
       "      <th>High5_ratio</th>\n",
       "      <th>Low5_ratio</th>\n",
       "      <th>High20_ratio</th>\n",
       "      <th>Low20_ratio</th>\n",
       "      <th>Voltality5</th>\n",
       "      <th>Voltality20</th>\n",
       "    </tr>\n",
       "  </thead>\n",
       "  <tbody>\n",
       "    <tr>\n",
       "      <th>21</th>\n",
       "      <td>2020-11-02</td>\n",
       "      <td>Nifty Bank</td>\n",
       "      <td>24367.599609</td>\n",
       "      <td>25139.000000</td>\n",
       "      <td>24120.599609</td>\n",
       "      <td>24892.500000</td>\n",
       "      <td>24892.500000</td>\n",
       "      <td>0</td>\n",
       "      <td>0.040650</td>\n",
       "      <td>-0.007964</td>\n",
       "      <td>...</td>\n",
       "      <td>24769.500000</td>\n",
       "      <td>23900.900391</td>\n",
       "      <td>24769.500000</td>\n",
       "      <td>22370.949219</td>\n",
       "      <td>0.964933</td>\n",
       "      <td>1.000000</td>\n",
       "      <td>0.964933</td>\n",
       "      <td>0.935988</td>\n",
       "      <td>0.019665</td>\n",
       "      <td>0.017598</td>\n",
       "    </tr>\n",
       "    <tr>\n",
       "      <th>22</th>\n",
       "      <td>2020-11-03</td>\n",
       "      <td>Nifty Bank</td>\n",
       "      <td>25108.000000</td>\n",
       "      <td>25760.699219</td>\n",
       "      <td>25085.699219</td>\n",
       "      <td>25682.800781</td>\n",
       "      <td>25682.800781</td>\n",
       "      <td>0</td>\n",
       "      <td>0.031255</td>\n",
       "      <td>0.040650</td>\n",
       "      <td>...</td>\n",
       "      <td>24892.500000</td>\n",
       "      <td>23900.900391</td>\n",
       "      <td>24892.500000</td>\n",
       "      <td>22853.699219</td>\n",
       "      <td>1.000000</td>\n",
       "      <td>0.960165</td>\n",
       "      <td>1.000000</td>\n",
       "      <td>0.918096</td>\n",
       "      <td>0.026529</td>\n",
       "      <td>0.019456</td>\n",
       "    </tr>\n",
       "    <tr>\n",
       "      <th>23</th>\n",
       "      <td>2020-11-04</td>\n",
       "      <td>Nifty Bank</td>\n",
       "      <td>25539.550781</td>\n",
       "      <td>25891.000000</td>\n",
       "      <td>25142.000000</td>\n",
       "      <td>25771.599609</td>\n",
       "      <td>25771.599609</td>\n",
       "      <td>0</td>\n",
       "      <td>0.003452</td>\n",
       "      <td>0.031255</td>\n",
       "      <td>...</td>\n",
       "      <td>25682.800781</td>\n",
       "      <td>23900.900391</td>\n",
       "      <td>25682.800781</td>\n",
       "      <td>22964.800781</td>\n",
       "      <td>1.000000</td>\n",
       "      <td>0.930619</td>\n",
       "      <td>1.000000</td>\n",
       "      <td>0.894170</td>\n",
       "      <td>0.027133</td>\n",
       "      <td>0.020004</td>\n",
       "    </tr>\n",
       "    <tr>\n",
       "      <th>24</th>\n",
       "      <td>2020-11-05</td>\n",
       "      <td>Nifty Bank</td>\n",
       "      <td>26174.800781</td>\n",
       "      <td>26375.199219</td>\n",
       "      <td>26000.050781</td>\n",
       "      <td>26313.099609</td>\n",
       "      <td>26313.099609</td>\n",
       "      <td>0</td>\n",
       "      <td>0.020794</td>\n",
       "      <td>0.003452</td>\n",
       "      <td>...</td>\n",
       "      <td>25771.599609</td>\n",
       "      <td>23900.900391</td>\n",
       "      <td>25771.599609</td>\n",
       "      <td>23072.400391</td>\n",
       "      <td>1.000000</td>\n",
       "      <td>0.927412</td>\n",
       "      <td>1.000000</td>\n",
       "      <td>0.895265</td>\n",
       "      <td>0.022249</td>\n",
       "      <td>0.020010</td>\n",
       "    </tr>\n",
       "    <tr>\n",
       "      <th>25</th>\n",
       "      <td>2020-11-06</td>\n",
       "      <td>Nifty Bank</td>\n",
       "      <td>26274.099609</td>\n",
       "      <td>26853.449219</td>\n",
       "      <td>26135.300781</td>\n",
       "      <td>26798.949219</td>\n",
       "      <td>26798.949219</td>\n",
       "      <td>0</td>\n",
       "      <td>0.018296</td>\n",
       "      <td>0.020794</td>\n",
       "      <td>...</td>\n",
       "      <td>26313.099609</td>\n",
       "      <td>23900.900391</td>\n",
       "      <td>26313.099609</td>\n",
       "      <td>23072.400391</td>\n",
       "      <td>1.000000</td>\n",
       "      <td>0.908327</td>\n",
       "      <td>1.000000</td>\n",
       "      <td>0.876841</td>\n",
       "      <td>0.019885</td>\n",
       "      <td>0.020275</td>\n",
       "    </tr>\n",
       "    <tr>\n",
       "      <th>26</th>\n",
       "      <td>2020-11-09</td>\n",
       "      <td>Nifty Bank</td>\n",
       "      <td>27088.949219</td>\n",
       "      <td>27595.000000</td>\n",
       "      <td>27068.949219</td>\n",
       "      <td>27534.099609</td>\n",
       "      <td>27534.099609</td>\n",
       "      <td>0</td>\n",
       "      <td>0.027063</td>\n",
       "      <td>0.018296</td>\n",
       "      <td>...</td>\n",
       "      <td>26798.949219</td>\n",
       "      <td>24892.500000</td>\n",
       "      <td>26798.949219</td>\n",
       "      <td>23072.400391</td>\n",
       "      <td>1.000000</td>\n",
       "      <td>0.928861</td>\n",
       "      <td>1.000000</td>\n",
       "      <td>0.860944</td>\n",
       "      <td>0.014042</td>\n",
       "      <td>0.019848</td>\n",
       "    </tr>\n",
       "    <tr>\n",
       "      <th>27</th>\n",
       "      <td>2020-11-10</td>\n",
       "      <td>Nifty Bank</td>\n",
       "      <td>28039.449219</td>\n",
       "      <td>28802.500000</td>\n",
       "      <td>27916.900391</td>\n",
       "      <td>28606.000000</td>\n",
       "      <td>28606.000000</td>\n",
       "      <td>0</td>\n",
       "      <td>0.038191</td>\n",
       "      <td>0.027063</td>\n",
       "      <td>...</td>\n",
       "      <td>27534.099609</td>\n",
       "      <td>25682.800781</td>\n",
       "      <td>27534.099609</td>\n",
       "      <td>23072.400391</td>\n",
       "      <td>1.000000</td>\n",
       "      <td>0.932763</td>\n",
       "      <td>1.000000</td>\n",
       "      <td>0.837957</td>\n",
       "      <td>0.010651</td>\n",
       "      <td>0.020197</td>\n",
       "    </tr>\n",
       "    <tr>\n",
       "      <th>28</th>\n",
       "      <td>2020-11-11</td>\n",
       "      <td>Nifty Bank</td>\n",
       "      <td>28713.150391</td>\n",
       "      <td>29030.900391</td>\n",
       "      <td>28211.099609</td>\n",
       "      <td>28845.000000</td>\n",
       "      <td>28845.000000</td>\n",
       "      <td>0</td>\n",
       "      <td>0.008320</td>\n",
       "      <td>0.038191</td>\n",
       "      <td>...</td>\n",
       "      <td>28606.000000</td>\n",
       "      <td>25771.599609</td>\n",
       "      <td>28606.000000</td>\n",
       "      <td>23072.400391</td>\n",
       "      <td>1.000000</td>\n",
       "      <td>0.900916</td>\n",
       "      <td>1.000000</td>\n",
       "      <td>0.806558</td>\n",
       "      <td>0.012709</td>\n",
       "      <td>0.020899</td>\n",
       "    </tr>\n",
       "    <tr>\n",
       "      <th>29</th>\n",
       "      <td>2020-11-12</td>\n",
       "      <td>Nifty Bank</td>\n",
       "      <td>28633.750000</td>\n",
       "      <td>28672.900391</td>\n",
       "      <td>28066.050781</td>\n",
       "      <td>28278.800781</td>\n",
       "      <td>28278.800781</td>\n",
       "      <td>0</td>\n",
       "      <td>-0.019824</td>\n",
       "      <td>0.008320</td>\n",
       "      <td>...</td>\n",
       "      <td>28845.000000</td>\n",
       "      <td>26313.099609</td>\n",
       "      <td>28845.000000</td>\n",
       "      <td>23072.400391</td>\n",
       "      <td>1.000000</td>\n",
       "      <td>0.912224</td>\n",
       "      <td>1.000000</td>\n",
       "      <td>0.799875</td>\n",
       "      <td>0.011053</td>\n",
       "      <td>0.020848</td>\n",
       "    </tr>\n",
       "    <tr>\n",
       "      <th>30</th>\n",
       "      <td>2020-11-13</td>\n",
       "      <td>Nifty Bank</td>\n",
       "      <td>28108.699219</td>\n",
       "      <td>28520.550781</td>\n",
       "      <td>27703.300781</td>\n",
       "      <td>28465.699219</td>\n",
       "      <td>28465.699219</td>\n",
       "      <td>0</td>\n",
       "      <td>0.006587</td>\n",
       "      <td>-0.019824</td>\n",
       "      <td>...</td>\n",
       "      <td>28845.000000</td>\n",
       "      <td>26798.949219</td>\n",
       "      <td>28845.000000</td>\n",
       "      <td>23533.250000</td>\n",
       "      <td>0.980371</td>\n",
       "      <td>0.947669</td>\n",
       "      <td>0.980371</td>\n",
       "      <td>0.832187</td>\n",
       "      <td>0.022078</td>\n",
       "      <td>0.019468</td>\n",
       "    </tr>\n",
       "  </tbody>\n",
       "</table>\n",
       "<p>10 rows × 33 columns</p>\n",
       "</div>"
      ],
      "text/plain": [
       "          Date      Symbol          Open          High           Low  \\\n",
       "21  2020-11-02  Nifty Bank  24367.599609  25139.000000  24120.599609   \n",
       "22  2020-11-03  Nifty Bank  25108.000000  25760.699219  25085.699219   \n",
       "23  2020-11-04  Nifty Bank  25539.550781  25891.000000  25142.000000   \n",
       "24  2020-11-05  Nifty Bank  26174.800781  26375.199219  26000.050781   \n",
       "25  2020-11-06  Nifty Bank  26274.099609  26853.449219  26135.300781   \n",
       "26  2020-11-09  Nifty Bank  27088.949219  27595.000000  27068.949219   \n",
       "27  2020-11-10  Nifty Bank  28039.449219  28802.500000  27916.900391   \n",
       "28  2020-11-11  Nifty Bank  28713.150391  29030.900391  28211.099609   \n",
       "29  2020-11-12  Nifty Bank  28633.750000  28672.900391  28066.050781   \n",
       "30  2020-11-13  Nifty Bank  28108.699219  28520.550781  27703.300781   \n",
       "\n",
       "           Close     Adj Close  Volume   returns  return_1d  ...  \\\n",
       "21  24892.500000  24892.500000       0  0.040650  -0.007964  ...   \n",
       "22  25682.800781  25682.800781       0  0.031255   0.040650  ...   \n",
       "23  25771.599609  25771.599609       0  0.003452   0.031255  ...   \n",
       "24  26313.099609  26313.099609       0  0.020794   0.003452  ...   \n",
       "25  26798.949219  26798.949219       0  0.018296   0.020794  ...   \n",
       "26  27534.099609  27534.099609       0  0.027063   0.018296  ...   \n",
       "27  28606.000000  28606.000000       0  0.038191   0.027063  ...   \n",
       "28  28845.000000  28845.000000       0  0.008320   0.038191  ...   \n",
       "29  28278.800781  28278.800781       0 -0.019824   0.008320  ...   \n",
       "30  28465.699219  28465.699219       0  0.006587  -0.019824  ...   \n",
       "\n",
       "           High5          Low5        High20         Low20  High5_ratio  \\\n",
       "21  24769.500000  23900.900391  24769.500000  22370.949219     0.964933   \n",
       "22  24892.500000  23900.900391  24892.500000  22853.699219     1.000000   \n",
       "23  25682.800781  23900.900391  25682.800781  22964.800781     1.000000   \n",
       "24  25771.599609  23900.900391  25771.599609  23072.400391     1.000000   \n",
       "25  26313.099609  23900.900391  26313.099609  23072.400391     1.000000   \n",
       "26  26798.949219  24892.500000  26798.949219  23072.400391     1.000000   \n",
       "27  27534.099609  25682.800781  27534.099609  23072.400391     1.000000   \n",
       "28  28606.000000  25771.599609  28606.000000  23072.400391     1.000000   \n",
       "29  28845.000000  26313.099609  28845.000000  23072.400391     1.000000   \n",
       "30  28845.000000  26798.949219  28845.000000  23533.250000     0.980371   \n",
       "\n",
       "    Low5_ratio  High20_ratio  Low20_ratio  Voltality5  Voltality20  \n",
       "21    1.000000      0.964933     0.935988    0.019665     0.017598  \n",
       "22    0.960165      1.000000     0.918096    0.026529     0.019456  \n",
       "23    0.930619      1.000000     0.894170    0.027133     0.020004  \n",
       "24    0.927412      1.000000     0.895265    0.022249     0.020010  \n",
       "25    0.908327      1.000000     0.876841    0.019885     0.020275  \n",
       "26    0.928861      1.000000     0.860944    0.014042     0.019848  \n",
       "27    0.932763      1.000000     0.837957    0.010651     0.020197  \n",
       "28    0.900916      1.000000     0.806558    0.012709     0.020899  \n",
       "29    0.912224      1.000000     0.799875    0.011053     0.020848  \n",
       "30    0.947669      0.980371     0.832187    0.022078     0.019468  \n",
       "\n",
       "[10 rows x 33 columns]"
      ]
     },
     "execution_count": 97,
     "metadata": {},
     "output_type": "execute_result"
    }
   ],
   "source": [
    "nifty.head(10)"
   ]
  },
  {
   "cell_type": "code",
   "execution_count": 98,
   "metadata": {},
   "outputs": [],
   "source": [
    "def create_variables(symbol):\n",
    "    df = pd.read_csv(symbol+'.csv',header=0)\n",
    "    df['Date'] = df['Date'].apply(lambda x:str.strip(str(x)))\n",
    "    df = df[(df[\"Volume\"]!=0) & (df['Volume'].notnull())]\n",
    "    df['returns'] = np.log(df['Adj Close']/df['Adj Close'].shift(1))\n",
    "    for i in range(1,11):\n",
    "        df[f'return_{i}d'] = df['returns'].shift(i)\n",
    "    df['Open_Chg'] = np.log(df['Open'].shift(1)/df['Open'].shift(2))\n",
    "    df['High_Chg'] = np.log(df['High'].shift(1)/df['High'].shift(2))\n",
    "    df['Low_Chg'] = np.log(df['Low'].shift(1)/df['Low'].shift(2))\n",
    "    df['Range_Chg'] = np.log((df['High'].shift(1)-df['Low'].shift(1))/(df['High'].shift(2)-df['Low'].shift(2)))\n",
    "    df['Volume_Chg'] = np.log(df['Volume'].shift(1)/df['Volume'].shift(2))\n",
    "    df['Voltality5'] = df['returns'].shift(1).rolling(window=5).std()\n",
    "    df['Voltality20'] = df['returns'].shift(1).rolling(window=20).std()\n",
    "    df['MA5'] = df['Adj Close'].shift(1).rolling(window=5).mean()\n",
    "    df['MA20'] = df['Adj Close'].shift(1).rolling(window=20).mean()\n",
    "    df['High5'] = df['Adj Close'].shift(1).rolling(window=5).max()\n",
    "    df['Low5'] = df['Adj Close'].shift(1).rolling(window=5).min()\n",
    "    df['High20'] = df['Adj Close'].shift(1).rolling(window=20).max()\n",
    "    df['Low20'] = df['Adj Close'].shift(1).rolling(window=20).min()\n",
    "    df['MA5_ratio'] = df['Adj Close'].shift(1)/df['MA5']\n",
    "    df['MA20_ratio'] = df['Adj Close'].shift(1)/df['MA20']\n",
    "    df['High5_ratio'] = df['Adj Close'].shift(1)/df['High5']\n",
    "    df['Low5_ratio'] = df['Low5']/df['Adj Close'].shift(1)\n",
    "    df['High20_ratio'] = df['Adj Close'].shift(1)/df['High20']\n",
    "    df['Low20_ratio'] = df['Low20']/df['Adj Close'].shift(1)\n",
    "    df['future_return'] = np.log(df['Adj Close'].shift(-1)/df['Adj Close'])\n",
    "    df['lift'] = df['future_return'].apply(lambda x: 1 if x >0 else 0)\n",
    "    df['Price_Voltality5'] = df['Adj Close'].shift(1).rolling(window=5).std()\n",
    "    df['Price_Voltality20'] = df['Adj Close'].shift(1).rolling(window=20).std()\n",
    "    df['Bollinger5_ratio'] = (df['Adj Close'].shift(1)-df['MA5']+2*df['Price_Voltality5'])/(4*df['Price_Voltality5'])\n",
    "    df['Bollinger20_ratio'] = (df['Adj Close'].shift(1)-df['MA20']+2*df['Price_Voltality20'])/(4*df['Price_Voltality20'])\n",
    "    df['ADX5'] = talib.ADX(df['High'].shift(1),df['Low'].shift(1),df['Close'].shift(1),5)/100\n",
    "    df['ADX20'] = talib.ADX(df['High'].shift(1),df['Low'].shift(1),df['Close'].shift(1),20)/100\n",
    "    df['RSI5'] = talib.RSI(df['Adj Close'].shift(1),5)/100\n",
    "    df['RSI20'] = talib.RSI(df['Adj Close'].shift(1),20)/100\n",
    "    df = df.merge(nifty,left_on='Date',right_on='Date',suffixes=['','_nifty'],how='inner')\n",
    "    df.dropna(inplace=True)\n",
    "    df['correlation'] = df.apply(lambda x : np.corrcoef(list(x[[f'return_{i}d' for i in range(1,11)]]),list(x[[f'return_{i}d_nifty' for i in range(1,11)]]))[0,1],axis=1)\n",
    "    return df"
   ]
  },
  {
   "cell_type": "code",
   "execution_count": 99,
   "metadata": {},
   "outputs": [
    {
     "name": "stdout",
     "output_type": "stream",
     "text": [
      "HDFCBANK\n",
      "ICICIBANK\n",
      "KOTAKBANK\n",
      "AXISBANK\n",
      "SBIN\n",
      "INDUSINDBK\n",
      "BANDHANBNK\n",
      "FEDERALBNK\n",
      "RBLBANK\n",
      "IDFCFIRSTB\n",
      "BANKBARODA\n",
      "PNB\n"
     ]
    }
   ],
   "source": [
    "df = pd.DataFrame()\n",
    "for symbol in list(nifty_bank_shares['Symbol']):\n",
    "    print(symbol)\n",
    "    df = df.append(create_variables(symbol))"
   ]
  },
  {
   "cell_type": "code",
   "execution_count": 100,
   "metadata": {},
   "outputs": [
    {
     "data": {
      "text/plain": [
       "FEDERALBNK    26\n",
       "ICICIBANK     26\n",
       "HDFCBANK      26\n",
       "INDUSINDBK    26\n",
       "IDFCFIRSTB    26\n",
       "KOTAKBANK     26\n",
       "RBLBANK       26\n",
       "BANKBARODA    26\n",
       "AXISBANK      26\n",
       "SBIN          26\n",
       "PNB           26\n",
       "BANDHANBNK    26\n",
       "Name: Symbol, dtype: int64"
      ]
     },
     "execution_count": 100,
     "metadata": {},
     "output_type": "execute_result"
    }
   ],
   "source": [
    "df['Symbol'].value_counts()"
   ]
  },
  {
   "cell_type": "code",
   "execution_count": 101,
   "metadata": {},
   "outputs": [
    {
     "data": {
      "text/plain": [
       "(312, 81)"
      ]
     },
     "execution_count": 101,
     "metadata": {},
     "output_type": "execute_result"
    }
   ],
   "source": [
    "df.shape"
   ]
  },
  {
   "cell_type": "code",
   "execution_count": 105,
   "metadata": {},
   "outputs": [],
   "source": [
    "df.reset_index(inplace=True)\n",
    "for col in df.columns:\n",
    "    if (df[col].isnull().any()):\n",
    "        print(col)"
   ]
  },
  {
   "cell_type": "code",
   "execution_count": 106,
   "metadata": {},
   "outputs": [],
   "source": [
    "df.to_csv('piv.csv',index=False)"
   ]
  },
  {
   "cell_type": "code",
   "execution_count": 16,
   "metadata": {},
   "outputs": [],
   "source": [
    "df[df['Date']<='2015-12-31'].to_csv('dev.csv',index=False)"
   ]
  },
  {
   "cell_type": "code",
   "execution_count": 17,
   "metadata": {},
   "outputs": [],
   "source": [
    "df[(df['Date']>'2015-12-31') & (df['Date']<='2018-04-30')].to_csv('val.csv',index=False)"
   ]
  },
  {
   "cell_type": "code",
   "execution_count": 18,
   "metadata": {},
   "outputs": [],
   "source": [
    "df[df['Date']>'2018-04-30'].to_csv('oot.csv',index=False)"
   ]
  },
  {
   "cell_type": "markdown",
   "metadata": {},
   "source": [
    "# Check Price Stationarity of stocks and nifty"
   ]
  },
  {
   "cell_type": "code",
   "execution_count": 8,
   "metadata": {},
   "outputs": [],
   "source": [
    "def check_price_stationarity(symbol):\n",
    "    df = pd.read_csv(symbol+'.csv',header=0,parse_dates=True)\n",
    "    y = df['Adj Close']\n",
    "    adftest = adfuller(y, autolag='AIC')\n",
    "    return pd.Series(adftest[0:4], index=['Test Statistic','p-value','# of Lags','# of Observations'])"
   ]
  },
  {
   "cell_type": "code",
   "execution_count": 9,
   "metadata": {},
   "outputs": [],
   "source": [
    "df = pd.DataFrame()\n",
    "for symbol in list(nifty_bank_shares['Symbol'])+['niftybank']:\n",
    "    df[symbol]=check_price_stationarity(symbol)"
   ]
  },
  {
   "cell_type": "code",
   "execution_count": 10,
   "metadata": {},
   "outputs": [
    {
     "data": {
      "text/html": [
       "<div>\n",
       "<style scoped>\n",
       "    .dataframe tbody tr th:only-of-type {\n",
       "        vertical-align: middle;\n",
       "    }\n",
       "\n",
       "    .dataframe tbody tr th {\n",
       "        vertical-align: top;\n",
       "    }\n",
       "\n",
       "    .dataframe thead th {\n",
       "        text-align: right;\n",
       "    }\n",
       "</style>\n",
       "<table border=\"1\" class=\"dataframe\">\n",
       "  <thead>\n",
       "    <tr style=\"text-align: right;\">\n",
       "      <th></th>\n",
       "      <th>HDFCBANK</th>\n",
       "      <th>ICICIBANK</th>\n",
       "      <th>KOTAKBANK</th>\n",
       "      <th>AXISBANK</th>\n",
       "      <th>SBIN</th>\n",
       "      <th>INDUSINDBK</th>\n",
       "      <th>BANDHANBNK</th>\n",
       "      <th>FEDERALBNK</th>\n",
       "      <th>RBLBANK</th>\n",
       "      <th>IDFCFIRSTB</th>\n",
       "      <th>BANKBARODA</th>\n",
       "      <th>PNB</th>\n",
       "      <th>niftybank</th>\n",
       "    </tr>\n",
       "  </thead>\n",
       "  <tbody>\n",
       "    <tr>\n",
       "      <th>Test Statistic</th>\n",
       "      <td>0.223737</td>\n",
       "      <td>-0.489318</td>\n",
       "      <td>0.477716</td>\n",
       "      <td>-1.433993</td>\n",
       "      <td>-2.241049</td>\n",
       "      <td>-1.466356</td>\n",
       "      <td>-1.764744</td>\n",
       "      <td>-1.671596</td>\n",
       "      <td>-1.015324</td>\n",
       "      <td>-2.055295</td>\n",
       "      <td>-2.265062</td>\n",
       "      <td>-1.836071</td>\n",
       "      <td>-0.853319</td>\n",
       "    </tr>\n",
       "    <tr>\n",
       "      <th>p-value</th>\n",
       "      <td>0.973562</td>\n",
       "      <td>0.894084</td>\n",
       "      <td>0.984180</td>\n",
       "      <td>0.565875</td>\n",
       "      <td>0.191686</td>\n",
       "      <td>0.550084</td>\n",
       "      <td>0.398100</td>\n",
       "      <td>0.445803</td>\n",
       "      <td>0.747634</td>\n",
       "      <td>0.262866</td>\n",
       "      <td>0.183484</td>\n",
       "      <td>0.362706</td>\n",
       "      <td>0.802957</td>\n",
       "    </tr>\n",
       "    <tr>\n",
       "      <th># of Lags</th>\n",
       "      <td>28.000000</td>\n",
       "      <td>17.000000</td>\n",
       "      <td>28.000000</td>\n",
       "      <td>0.000000</td>\n",
       "      <td>17.000000</td>\n",
       "      <td>9.000000</td>\n",
       "      <td>1.000000</td>\n",
       "      <td>16.000000</td>\n",
       "      <td>1.000000</td>\n",
       "      <td>6.000000</td>\n",
       "      <td>0.000000</td>\n",
       "      <td>1.000000</td>\n",
       "      <td>12.000000</td>\n",
       "    </tr>\n",
       "    <tr>\n",
       "      <th># of Observations</th>\n",
       "      <td>2670.000000</td>\n",
       "      <td>2681.000000</td>\n",
       "      <td>2670.000000</td>\n",
       "      <td>2698.000000</td>\n",
       "      <td>2681.000000</td>\n",
       "      <td>2689.000000</td>\n",
       "      <td>666.000000</td>\n",
       "      <td>2682.000000</td>\n",
       "      <td>1054.000000</td>\n",
       "      <td>1249.000000</td>\n",
       "      <td>2698.000000</td>\n",
       "      <td>2697.000000</td>\n",
       "      <td>2401.000000</td>\n",
       "    </tr>\n",
       "  </tbody>\n",
       "</table>\n",
       "</div>"
      ],
      "text/plain": [
       "                      HDFCBANK    ICICIBANK    KOTAKBANK     AXISBANK  \\\n",
       "Test Statistic        0.223737    -0.489318     0.477716    -1.433993   \n",
       "p-value               0.973562     0.894084     0.984180     0.565875   \n",
       "# of Lags            28.000000    17.000000    28.000000     0.000000   \n",
       "# of Observations  2670.000000  2681.000000  2670.000000  2698.000000   \n",
       "\n",
       "                          SBIN   INDUSINDBK  BANDHANBNK   FEDERALBNK  \\\n",
       "Test Statistic       -2.241049    -1.466356   -1.764744    -1.671596   \n",
       "p-value               0.191686     0.550084    0.398100     0.445803   \n",
       "# of Lags            17.000000     9.000000    1.000000    16.000000   \n",
       "# of Observations  2681.000000  2689.000000  666.000000  2682.000000   \n",
       "\n",
       "                       RBLBANK   IDFCFIRSTB   BANKBARODA          PNB  \\\n",
       "Test Statistic       -1.015324    -2.055295    -2.265062    -1.836071   \n",
       "p-value               0.747634     0.262866     0.183484     0.362706   \n",
       "# of Lags             1.000000     6.000000     0.000000     1.000000   \n",
       "# of Observations  1054.000000  1249.000000  2698.000000  2697.000000   \n",
       "\n",
       "                     niftybank  \n",
       "Test Statistic       -0.853319  \n",
       "p-value               0.802957  \n",
       "# of Lags            12.000000  \n",
       "# of Observations  2401.000000  "
      ]
     },
     "execution_count": 10,
     "metadata": {},
     "output_type": "execute_result"
    }
   ],
   "source": [
    "df.head()"
   ]
  },
  {
   "cell_type": "code",
   "execution_count": 11,
   "metadata": {},
   "outputs": [],
   "source": [
    "df.to_excel('../Statistics/stationarity_check.xlsx')"
   ]
  },
  {
   "cell_type": "code",
   "execution_count": 32,
   "metadata": {},
   "outputs": [],
   "source": [
    "df = pd.read_csv('KOTAKBANK.csv',header=0,parse_dates=True)\n",
    "y = df['Adj Close']\n",
    "adftest = adfuller(y, maxlag=5)"
   ]
  },
  {
   "cell_type": "code",
   "execution_count": 33,
   "metadata": {},
   "outputs": [
    {
     "data": {
      "text/plain": [
       "(0.8047838667195825,\n",
       " 0.991712997466942,\n",
       " 3,\n",
       " 2695,\n",
       " {'1%': -3.432778771617089,\n",
       "  '5%': -2.862613052530749,\n",
       "  '10%': -2.5673412216328595},\n",
       " 22576.555584217633)"
      ]
     },
     "execution_count": 33,
     "metadata": {},
     "output_type": "execute_result"
    }
   ],
   "source": [
    "adftest"
   ]
  },
  {
   "cell_type": "code",
   "execution_count": null,
   "metadata": {},
   "outputs": [],
   "source": []
  }
 ],
 "metadata": {
  "kernelspec": {
   "display_name": "Python 3",
   "language": "python",
   "name": "python3"
  },
  "language_info": {
   "codemirror_mode": {
    "name": "ipython",
    "version": 3
   },
   "file_extension": ".py",
   "mimetype": "text/x-python",
   "name": "python",
   "nbconvert_exporter": "python",
   "pygments_lexer": "ipython3",
   "version": "3.8.5"
  }
 },
 "nbformat": 4,
 "nbformat_minor": 2
}
